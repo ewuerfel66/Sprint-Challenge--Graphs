{
 "cells": [
  {
   "cell_type": "code",
   "execution_count": 1,
   "metadata": {},
   "outputs": [],
   "source": [
    "from room import Room\n",
    "from player import Player\n",
    "from world import World\n",
    "from graph import Graph\n",
    "from util import Stack, Queue\n",
    "\n",
    "import random\n",
    "from ast import literal_eval"
   ]
  },
  {
   "cell_type": "code",
   "execution_count": 10,
   "metadata": {},
   "outputs": [
    {
     "name": "stdout",
     "output_type": "stream",
     "text": [
      "#####\n",
      "#                                        #\n",
      "#                002                     #\n",
      "#                 |                      #\n",
      "#                 |                      #\n",
      "#                001                     #\n",
      "#                 |                      #\n",
      "#                 |                      #\n",
      "#      008--007--000--003--004           #\n",
      "#       |         |                      #\n",
      "#       |         |                      #\n",
      "#      009       005                     #\n",
      "#       |         |                      #\n",
      "#       |         |                      #\n",
      "#      010--011--006                     #\n",
      "#                                        #\n",
      "\n",
      "#####\n"
     ]
    }
   ],
   "source": [
    "# Load world\n",
    "world = World()\n",
    "\n",
    "opposite_dirs = {\"n\": \"s\", \"s\": \"n\", \"e\": \"w\", \"w\": \"e\"}\n",
    "\n",
    "# You may uncomment the smaller graphs for development and testing purposes.\n",
    "# map_file = \"maps/test_line.txt\"\n",
    "# map_file = \"maps/test_cross.txt\"\n",
    "map_file = \"maps/test_loop.txt\"\n",
    "# map_file = \"maps/test_loop_fork.txt\"\n",
    "# map_file = \"maps/main_maze.txt\"\n",
    "\n",
    "# Loads the map into a dictionary\n",
    "room_graph = literal_eval(open(map_file, \"r\").read())\n",
    "world.load_graph(room_graph)\n",
    "\n",
    "# Print an ASCII map\n",
    "world.print_rooms()\n",
    "\n",
    "player = Player(world.starting_room)\n",
    "\n",
    "# Fill this out with directions to walk\n",
    "# traversal_path = ['n', 'n']\n",
    "traversal_path = []\n",
    "visited = set()"
   ]
  },
  {
   "cell_type": "code",
   "execution_count": 11,
   "metadata": {},
   "outputs": [],
   "source": [
    "# Instantiate Graph\n",
    "graph = Graph()\n",
    "\n",
    "# Add the first room to graph and visited\n",
    "graph.add_current_room(player.current_room.id, player.current_room.get_exits())\n",
    "visited.add(player.current_room.id)"
   ]
  },
  {
   "cell_type": "code",
   "execution_count": 12,
   "metadata": {},
   "outputs": [],
   "source": [
    "while len(visited) < 12:\n",
    "    # Find unexplored directions\n",
    "    unexplored_dirs = []\n",
    "    for key in graph.rooms[player.current_room.id]:\n",
    "        if graph.rooms[player.current_room.id][key] == \"?\":\n",
    "            unexplored_dirs.append(key)\n",
    "            \n",
    "    # If there are unexplored dirs, make a random move\n",
    "    if len(unexplored_dirs) > 0:\n",
    "        player.random_move(graph, traversal_path, visited, unexplored_dirs)\n",
    "        # path = graph.find_longest_path(player)\n",
    "        # if path is not None:\n",
    "        #     # Get directions\n",
    "        #     directions = graph.path_to_directions(path)\n",
    "\n",
    "        #     # Follow directions\n",
    "        #     player.follow_directions(graph, visited, directions, traversal_path)\n",
    "        \n",
    "    # If there are no unexplored dirs, bfs\n",
    "    else:\n",
    "        path = graph.find_nearest_unexplored_room(player)\n",
    "        if path is not None:\n",
    "            # Get directions for path\n",
    "            directions = graph.path_to_directions(path)\n",
    "\n",
    "            # Follow directions\n",
    "            player.follow_directions(graph, visited, directions, traversal_path)\n",
    "        else:\n",
    "            pass"
   ]
  },
  {
   "cell_type": "code",
   "execution_count": 13,
   "metadata": {},
   "outputs": [
    {
     "data": {
      "text/plain": [
       "{0: {'n': 1, 's': 5, 'w': '?', 'e': 3},\n",
       " 1: {'n': 2, 's': 0},\n",
       " 2: {'s': 1},\n",
       " 3: {'w': 0, 'e': 4},\n",
       " 4: {'w': 3},\n",
       " 5: {'n': 0, 's': 6},\n",
       " 6: {'n': 5, 'w': 11},\n",
       " 11: {'w': 10, 'e': 6},\n",
       " 10: {'n': 9, 'e': 11},\n",
       " 9: {'n': 8, 's': 10},\n",
       " 8: {'s': 9, 'e': 7},\n",
       " 7: {'w': 8, 'e': '?'}}"
      ]
     },
     "execution_count": 13,
     "metadata": {},
     "output_type": "execute_result"
    }
   ],
   "source": [
    "graph.rooms"
   ]
  },
  {
   "cell_type": "code",
   "execution_count": 9,
   "metadata": {},
   "outputs": [
    {
     "name": "stdout",
     "output_type": "stream",
     "text": [
      "1\n",
      "7\n",
      "3\n",
      "0\n",
      "6\n",
      "5\n",
      "11\n",
      "10\n",
      "6\n",
      "9\n",
      "11\n",
      "8\n",
      "10\n",
      "9\n",
      "7\n",
      "8\n",
      "0\n",
      "0\n",
      "4\n",
      "3\n",
      "2\n",
      "0\n",
      "1\n"
     ]
    }
   ],
   "source": [
    "for room_id in graph.rooms:\n",
    "    for direction in graph.rooms[room_id]:\n",
    "        if graph.rooms[room_id][direction] != \"?\":\n",
    "            counter_room_id = graph.rooms[room_id][direction]\n",
    "#             print(counter_room_id)\n",
    "            # Fill in the counter room\n",
    "            graph.rooms[counter_room_id][]"
   ]
  },
  {
   "cell_type": "code",
   "execution_count": 11,
   "metadata": {},
   "outputs": [
    {
     "name": "stdout",
     "output_type": "stream",
     "text": [
      "1\n",
      "{'n': 2, 's': 0}\n",
      "1\n",
      "{'w': 8, 'e': 0}\n",
      "{'s': 9, 'e': 7}\n",
      "{'n': 8, 's': 10}\n",
      "{'n': 9, 'e': 11}\n",
      "{'w': 10, 'e': 6}\n",
      "{'n': 5, 'w': 11}\n",
      "0\n",
      "0\n",
      "{'w': 3}\n"
     ]
    }
   ],
   "source": [
    "# Iterate through rooms\n",
    "for room in graph.rooms:\n",
    "#     print(room)\n",
    "    neighbors = graph.rooms[room]\n",
    "    print(neighbors)"
   ]
  },
  {
   "cell_type": "code",
   "execution_count": null,
   "metadata": {},
   "outputs": [],
   "source": [
    "player.current_room.id"
   ]
  },
  {
   "cell_type": "code",
   "execution_count": null,
   "metadata": {},
   "outputs": [],
   "source": [
    "len(graph.rooms)"
   ]
  },
  {
   "cell_type": "code",
   "execution_count": null,
   "metadata": {},
   "outputs": [],
   "source": [
    "len(traversal_path)"
   ]
  },
  {
   "cell_type": "code",
   "execution_count": null,
   "metadata": {},
   "outputs": [],
   "source": [
    "#### HODL\n",
    "# First move\n",
    "prev_room = player.current_room.id\n",
    "\n",
    "# If there are unexplored dirs, move that way\n",
    "direction = random.choice([key for key in player.current_room.get_exits()])\n",
    "traversal_path.append(direction)\n",
    "\n",
    "# Move that direction\n",
    "player.travel(direction)\n",
    "new_room = player.current_room.id\n",
    "\n",
    "# Add new room to graph.rooms and visited\n",
    "graph.add_current_room(new_room, player.current_room.get_exits())\n",
    "visited.add(new_room)\n",
    "\n",
    "# Connect rooms in graph\n",
    "graph.rooms[prev_room][direction] = new_room\n",
    "graph.rooms[new_room][opposite_dirs[direction]] = prev_room\n",
    "\n",
    "        \n",
    "        \n",
    "    def random_move(self, graph, traversal_path, visited, unexplored_dirs):\n",
    "        global opposite_dirs\n",
    "\n",
    "        # Save previous room before moving\n",
    "        prev_room = self.current_room.id\n",
    "\n",
    "        # If there are unexplored dirs, move that way\n",
    "        if \"n\" in unexplored_dirs:\n",
    "            direction = \"n\"\n",
    "        elif \"e\" in unexplored_dirs:\n",
    "            direction = \"e\"\n",
    "        else:\n",
    "            direction = random.choice(unexplored_dirs)\n",
    "        traversal_path.append(direction)\n",
    "\n",
    "        # Move that direction\n",
    "        self.travel(direction)\n",
    "\n",
    "        # Add new room to graph.rooms and visited\n",
    "        graph.add_current_room(self.current_room.id, self.current_room.get_exits())\n",
    "        visited.add(self.current_room.id)\n",
    "\n",
    "        # Connect rooms in graph\n",
    "        graph.rooms[prev_room][direction] = self.current_room.id\n",
    "        graph.rooms[self.current_room.id][opposite_dirs[direction]] = prev_room"
   ]
  }
 ],
 "metadata": {
  "kernelspec": {
   "display_name": "Python 3",
   "language": "python",
   "name": "python3"
  },
  "language_info": {
   "codemirror_mode": {
    "name": "ipython",
    "version": 3
   },
   "file_extension": ".py",
   "mimetype": "text/x-python",
   "name": "python",
   "nbconvert_exporter": "python",
   "pygments_lexer": "ipython3",
   "version": "3.7.3"
  }
 },
 "nbformat": 4,
 "nbformat_minor": 2
}
